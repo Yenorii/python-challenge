{
 "cells": [
  {
   "cell_type": "code",
   "execution_count": 13,
   "id": "edaae1ce",
   "metadata": {},
   "outputs": [
    {
     "name": "stdout",
     "output_type": "stream",
     "text": [
      "Financial Analysis\n",
      "----------------------------\n",
      "Total Months: 86\n",
      "Total: $22564198\n",
      "Average Change: $-8311.11\n",
      "Greatest Increase in Profits: Aug-16 ($1862002)\n",
      "Greatest Decrease in Profits: Feb-14 ($-1825558)\n"
     ]
    }
   ],
   "source": [
    "# import modules\n",
    "import os\n",
    "import numpy\n",
    "import csv\n",
    "import datetime\n",
    "\n",
    "# Variables:\n",
    "total_months = 0  # stores the total number of months included in the dataset\n",
    "total = 0  # stores the net total amount of Profit/Losses over the entire period\n",
    "previous_profit_loss = None  # stores the Profit/Loss value of the previous month for the average_profit_change calculation\n",
    "average_profit_change = None  # stores the average of the changes in Profit/Losses over the entire period\n",
    "dates = [] # empty list to store the dates\n",
    "profit_loss_changes = []  # empty list to store changes in Profit/Losses\n",
    "greatest_profit_increase = None  # stores the greatest increase in profits (amount) over the entire period\n",
    "greatest_profit_increase_date = None  # stores the greatest increase in profits (date) over the entire period\n",
    "greatest_profit_decrease = None  # stores the greatest decrease in profits (amount) over the entire period\n",
    "greatest_profit_decrease_date = None  # stores the greatest decrease in profits (date) over the entire period\n",
    "\n",
    "# Prepare data\n",
    "budget_data_csv = os.path.join(\"Resources/budget_data.csv\") # set file path\n",
    "with open(budget_data_csv) as budgetcsv: # open file,\n",
    "    csv_reader = csv.reader(budgetcsv) # loop through rows\n",
    "    header = next(csv_reader) # skip header row\n",
    "    for row in csv_reader:\n",
    "        Date = row[0] # grab dates from row 1\n",
    "        dates.append(Date)  # Add the date to the dates list\n",
    "        profit_loss = int(row[1])  # convert profit/loss values to integers\n",
    "        total += profit_loss  # update total with profit/loss values\n",
    "        total_months += 1  # increase by 1 for each month to count them\n",
    "        \n",
    "        # Calculating the change for the current month:\n",
    "        if previous_profit_loss is not None:\n",
    "            change = profit_loss - previous_profit_loss \n",
    "            profit_loss_changes.append(change) # apply changes\n",
    "        previous_profit_loss = profit_loss  # update previous Profit/Loss\n",
    "        \n",
    "# Calculate the sum of all profit/loss changes\n",
    "total_change = sum(profit_loss_changes)\n",
    "\n",
    "# Calculate the average change\n",
    "average_profit_change = total_change / len(profit_loss_changes)        \n",
    "\n",
    "# Find the maximum and minimum profit/loss changes\n",
    "greatest_profit_increase = max(profit_loss_changes) # increase\n",
    "greatest_profit_decrease = min(profit_loss_changes) # decrease\n",
    "\n",
    "# Find the maximum and minimum profit/loss changes\n",
    "index_increase = profit_loss_changes.index(greatest_profit_increase) # increase\n",
    "index_decrease = profit_loss_changes.index(greatest_profit_decrease) # decrease\n",
    "\n",
    "# Increase and decrease indexes get correct month in analysis\n",
    "greatest_profit_increase_date = dates[index_increase + 1]  # increase\n",
    "greatest_profit_decrease_date = dates[index_decrease + 1]  # decrease\n",
    "\n",
    "# Print my 'Financial Analysis'\n",
    "print(\"Financial Analysis\")\n",
    "print(\"----------------------------\")\n",
    "print(f\"Total Months: {total_months}\")\n",
    "print(f\"Total: ${total:}\")\n",
    "print(f\"Average Change: ${average_profit_change:.2f}\")\n",
    "print(f\"Greatest Increase in Profits: {greatest_profit_increase_date} (${greatest_profit_increase:})\")\n",
    "print(f\"Greatest Decrease in Profits: {greatest_profit_decrease_date} (${greatest_profit_decrease:})\")"
   ]
  },
  {
   "cell_type": "code",
   "execution_count": null,
   "id": "728a719c",
   "metadata": {},
   "outputs": [],
   "source": []
  }
 ],
 "metadata": {
  "kernelspec": {
   "display_name": "Python 3 (ipykernel)",
   "language": "python",
   "name": "python3"
  },
  "language_info": {
   "codemirror_mode": {
    "name": "ipython",
    "version": 3
   },
   "file_extension": ".py",
   "mimetype": "text/x-python",
   "name": "python",
   "nbconvert_exporter": "python",
   "pygments_lexer": "ipython3",
   "version": "3.11.5"
  }
 },
 "nbformat": 4,
 "nbformat_minor": 5
}
