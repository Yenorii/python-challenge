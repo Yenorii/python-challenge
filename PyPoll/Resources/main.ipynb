{
 "cells": [
  {
   "cell_type": "code",
   "execution_count": null,
   "id": "ddc6331a",
   "metadata": {},
   "outputs": [],
   "source": [
    "# import modules\n",
    "import os\n",
    "import numpy\n",
    "import csv\n",
    "import datetime\n",
    "\n",
    "# Variables:\n",
    "\n",
    "\n",
    "# Prepare data\n",
    "election_data_csv = os.path.join(\"Resources/election_data.csv\") # set file path\n",
    "with open(election_data_csv) as electioncsv: # open file,\n",
    "        csv_reader = csv.reader(electioncsv) # loop through rows\n",
    "            header = next(csv_reader) # skip header row\n",
    "            for row in csv_reader:\n",
    "\n",
    "\n",
    "\n",
    "\n"
   ]
  }
 ],
 "metadata": {
  "kernelspec": {
   "display_name": "Python 3 (ipykernel)",
   "language": "python",
   "name": "python3"
  },
  "language_info": {
   "codemirror_mode": {
    "name": "ipython",
    "version": 3
   },
   "file_extension": ".py",
   "mimetype": "text/x-python",
   "name": "python",
   "nbconvert_exporter": "python",
   "pygments_lexer": "ipython3",
   "version": "3.11.5"
  }
 },
 "nbformat": 4,
 "nbformat_minor": 5
}
