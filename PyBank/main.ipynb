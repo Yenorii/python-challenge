{
 "cells": [
  {
   "cell_type": "code",
   "execution_count": 4,
   "id": "edaae1ce",
   "metadata": {},
   "outputs": [
    {
     "name": "stdout",
     "output_type": "stream",
     "text": [
      "Total Months:  86\n"
     ]
    }
   ],
   "source": [
    "# import modules\n",
    "import os\n",
    "import numpy\n",
    "import csv\n",
    "\n",
    "# Variables:\n",
    "total_months = 0\n",
    "\n",
    "# Set path, open CSV file, and loop through rows\n",
    "budget_data_csv = os.path.join(\"Resources/budget_data.csv\")\n",
    "with open(budget_data_csv, 'r') as budgetcsv:\n",
    "    csv_reader = csv.reader(budgetcsv)\n",
    "    header = next(csv_reader)\n",
    "    for row in csv_reader:\n",
    "        Date = row[0]\n",
    "        \n",
    "        # Increase total_months variable by 1 for each row\n",
    "        total_months += 1\n",
    "\n",
    "# Print total_months to display total number of months in dataset\n",
    "print(\"Total Months: \", total_months)"
   ]
  },
  {
   "cell_type": "code",
   "execution_count": null,
   "id": "9f854569",
   "metadata": {},
   "outputs": [],
   "source": []
  }
 ],
 "metadata": {
  "kernelspec": {
   "display_name": "Python 3 (ipykernel)",
   "language": "python",
   "name": "python3"
  },
  "language_info": {
   "codemirror_mode": {
    "name": "ipython",
    "version": 3
   },
   "file_extension": ".py",
   "mimetype": "text/x-python",
   "name": "python",
   "nbconvert_exporter": "python",
   "pygments_lexer": "ipython3",
   "version": "3.11.5"
  }
 },
 "nbformat": 4,
 "nbformat_minor": 5
}
